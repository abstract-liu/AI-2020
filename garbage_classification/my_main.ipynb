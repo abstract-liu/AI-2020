{
 "cells": [
  {
   "cell_type": "code",
   "execution_count": 1,
   "metadata": {},
   "outputs": [
    {
     "ename": "SyntaxError",
     "evalue": "unexpected EOF while parsing (<ipython-input-1-b78c68cf085b>, line 8)",
     "output_type": "error",
     "traceback": [
      "\u001b[0;36m  File \u001b[0;32m\"<ipython-input-1-b78c68cf085b>\"\u001b[0;36m, line \u001b[0;32m8\u001b[0m\n\u001b[0;31m    class Garbage(data.Dataset):\u001b[0m\n\u001b[0m                                ^\u001b[0m\n\u001b[0;31mSyntaxError\u001b[0m\u001b[0;31m:\u001b[0m unexpected EOF while parsing\n"
     ]
    }
   ],
   "source": [
    "import os\n",
    "import random\n",
    "from PIL import Image\n",
    "import torch.utils.data as data\n",
    "import numpy as np\n",
    "import torchvision.transforms as transforms\n",
    "\n",
    "class Garbage(data.Dataset):\n",
    "    def __init__(self, root, transform=None, train=True, test=False):\n",
    "        self.test = test\n",
    "        self.train = train\n",
    "        self.transform = transform\n",
    "        \n",
    "        imgs = []\n",
    "        for root, dirs, files in os.walk(\"./dataset\", topdown=False):\n",
    "            for name in files:\n",
    "                imgs.append(os.path.join(root, name))\n",
    "        \n",
    "        imgs_num = len(imgs)\n",
    "        \n",
    "    def __getitem__(self, index):\n",
    "        img_path = self.imgs[index]\n",
    "        if self.test:\n",
    "            label = \n",
    "        else:\n",
    "            label = \n",
    "        data = Image.open(img_path)\n",
    "        data = self.transform(data)\n",
    "        return data, label\n",
    "    def __len__(self):\n",
    "        return len(self.imgs)"
   ]
  },
  {
   "cell_type": "code",
   "execution_count": 1,
   "metadata": {},
   "outputs": [
    {
     "name": "stderr",
     "output_type": "stream",
     "text": [
      "usage: ipykernel_launcher.py [-h] [--num_workers NUM_WORKERS]\n",
      "                             [--batchSize BATCHSIZE] [--nepoch NEPOCH]\n",
      "                             [--lr LR] [--gpu GPU]\n",
      "ipykernel_launcher.py: error: unrecognized arguments: -f /run/user/1000/jupyter/kernel-bdceb5e2-e09a-4695-940d-7434bb0adcd9.json\n"
     ]
    },
    {
     "ename": "SystemExit",
     "evalue": "2",
     "output_type": "error",
     "traceback": [
      "An exception has occurred, use %tb to see the full traceback.\n",
      "\u001b[0;31mSystemExit\u001b[0m\u001b[0;31m:\u001b[0m 2\n"
     ]
    },
    {
     "name": "stderr",
     "output_type": "stream",
     "text": [
      "/usr/lib/python3/dist-packages/IPython/core/interactiveshell.py:2890: UserWarning: To exit: use 'exit', 'quit', or Ctrl-D.\n",
      "  warn(\"To exit: use 'exit', 'quit', or Ctrl-D.\", stacklevel=1)\n"
     ]
    }
   ],
   "source": [
    "import torch\n",
    "import torch.nn as nn\n",
    "import torch.optim as optim\n",
    "from torch.autograd import Variable\n",
    "from torch.optim.lr_scheduler import *\n",
    "import torchvision.transforms as transforms\n",
    "import torchvision.datasets as dset\n",
    "\n",
    "from model.resnet import resnet101\n",
    "\n",
    "import argparse\n",
    "\n",
    "parser=argparse.ArgumentParser()\n",
    "parser.add_argument('--num_workers',type=int,default=2)\n",
    "parser.add_argument('--batchSize',type=int,default=64)\n",
    "parser.add_argument('--nepoch',type=int,default=21)\n",
    "parser.add_argument('--lr',type=float,default=0.001)\n",
    "parser.add_argument('--gpu',type=str,default='0')\n",
    "opt=parser.parse_args()\n",
    "print(opt)\n",
    "\n",
    "\n",
    "#preprocess img\n",
    "#load \n",
    "trainset = dset.ImageFolder('./dataset/dataset-resized')\n",
    "validset = dset.ImageFolder('./dataset/dataset-resized')\n",
    "#transform\n",
    "\n",
    "#dataloader\n",
    "trainloader = torch.utils.data.DataLoader(trainset, batch_size=opt.batchSize, shuffle=True, num_workers=opt.num_workers)\n",
    "validloader = torch.utils.data.DataLoader(validset, batch_size=opt.batchSize, shuffle=True, num_workers=opt.num_workers)\n",
    "\n",
    "#load model\n",
    "model = resnet101(pretrained=False)\n",
    "model.fc = nn.Linear(2048,6)\n",
    "model.cuda()\n",
    "optimizer = torch.optim.SGD(model.parameters(), lr=opt.lr, momentum=0.9, weight_decay=5e-4)\n",
    "scheduler = StepLR(optimizer, step_size=3)\n",
    "criterion = nn.CrossEntropyLoss()\n",
    "criterion.cuda()\n",
    "\n",
    "def train(epoch):\n",
    "    print('EPOCH::: ', epoch)\n",
    "    scheduler.step()\n",
    "    model.train()\n",
    "    for batch_idx, (img,label) in enumerate(trainloader):\n",
    "        image = Variable(img.cuda())\n",
    "        label = Variable(label.cuda())\n",
    "        \n",
    "        #compute output and loss\n",
    "        out = model(image)\n",
    "        loss = criterion(out, label)\n",
    "        \n",
    "        #compute gradient and back\n",
    "        optimizer.zero_grad()\n",
    "        loss.backward()\n",
    "        optimizer.step()\n",
    "        \n",
    "def val(epoch):\n",
    "    model.eval()\n",
    "    total = 0\n",
    "    correct = 0\n",
    "    with torch.no_grad():\n",
    "        for batch_idx, (img. label) in enumerate(validloader):\n",
    "            image = Variable(img.cuda())\n",
    "            label = Variable(label.cuda())\n",
    "            out = model(image)\n",
    "            _,predicted = torch.max(out,data,1)\n",
    "            toal += image.size(0)\n",
    "            correct += predicted.data.eq(label.data).cpu().sum()\n",
    "        print(\"Valid Acc: %f \"% ((1.0*correct.numpy())/total))\n",
    "\n",
    "            \n",
    "for epoch in range(opt.nepoch):\n",
    "    train(epoch)\n",
    "    val(epoch)\n",
    "torch.save(model.state_dict(), './model/best_model.pth')"
   ]
  },
  {
   "cell_type": "code",
   "execution_count": null,
   "metadata": {},
   "outputs": [],
   "source": []
  }
 ],
 "metadata": {
  "kernelspec": {
   "display_name": "Python 3",
   "language": "python",
   "name": "python3"
  },
  "language_info": {
   "codemirror_mode": {
    "name": "ipython",
    "version": 3
   },
   "file_extension": ".py",
   "mimetype": "text/x-python",
   "name": "python",
   "nbconvert_exporter": "python",
   "pygments_lexer": "ipython3",
   "version": "3.6.9"
  }
 },
 "nbformat": 4,
 "nbformat_minor": 2
}
