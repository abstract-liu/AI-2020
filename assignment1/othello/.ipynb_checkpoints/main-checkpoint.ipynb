{
 "cells": [
  {
   "cell_type": "markdown",
   "metadata": {},
   "source": [
    "棋盘坐标 E4, 转化为坐标形式就是 (3, 4), 坐标数值大小是从 0 开始，到 7 结束。  \n",
    "\n",
    "Board 类中，提供以上两种坐标的转化方法：\n",
    "+ `board_num(action)`: 棋盘坐标转化为数字坐标。\n",
    "    + action: 棋盘坐标，e.g. 'G6'\n",
    "    + 返回值: 数字坐标，e.g. (5, 6)\n",
    "+ `num_board(action)`: 数字坐标转化为棋盘坐标。\n",
    "    + action: 数字坐标，e.g. (2, 7)\n",
    "    + 返回值: 棋盘坐标，e.g. 'H3'"
   ]
  },
  {
   "cell_type": "markdown",
   "metadata": {},
   "source": [
    "# 2.2 创建随机玩家"
   ]
  },
  {
   "cell_type": "code",
   "execution_count": 7,
   "metadata": {},
   "outputs": [],
   "source": [
    "# 导入随机包\n",
    "import random\n",
    "\n",
    "class RandomPlayer:\n",
    "    \"\"\"\n",
    "    随机玩家, 随机返回一个合法落子位置\n",
    "    \"\"\"\n",
    "\n",
    "    def __init__(self, color):\n",
    "        \"\"\"\n",
    "        玩家初始化\n",
    "        :param color: 下棋方，'X' - 黑棋，'O' - 白棋\n",
    "        \"\"\"\n",
    "        self.color = color\n",
    "        \n",
    "\n",
    "    def random_choice(self, board):\n",
    "        \"\"\"\n",
    "        从合法落子位置中随机选一个落子位置\n",
    "        :param board: 棋盘\n",
    "        :return: 随机合法落子位置, e.g. 'A1' \n",
    "        \"\"\"\n",
    "        # 用 list() 方法获取所有合法落子位置坐标列表\n",
    "        action_list = list(board.get_legal_actions(self.color))\n",
    "\n",
    "        # 如果 action_list 为空，则返回 None,否则从中选取一个随机元素，即合法的落子坐标\n",
    "        if len(action_list) == 0:\n",
    "            return None\n",
    "        else:\n",
    "            return random.choice(action_list)\n",
    "\n",
    "    def get_move(self, board):\n",
    "        \"\"\"\n",
    "        根据当前棋盘状态获取最佳落子位置\n",
    "        :param board: 棋盘\n",
    "        :return: action 最佳落子位置, e.g. 'A1'\n",
    "        \"\"\"\n",
    "        if self.color == 'X':\n",
    "            player_name = '黑棋'\n",
    "        else:\n",
    "            player_name = '白棋'\n",
    "        print(\"请等一会，对方 {}-{} 正在思考中...\".format(player_name, self.color))\n",
    "        action = self.random_choice(board)\n",
    "        return action"
   ]
  },
  {
   "cell_type": "markdown",
   "metadata": {},
   "source": [
    "# 2.3 创建人类"
   ]
  },
  {
   "cell_type": "code",
   "execution_count": 2,
   "metadata": {},
   "outputs": [],
   "source": [
    "class HumanPlayer:\n",
    "    \"\"\"\n",
    "    人类玩家\n",
    "    \"\"\"\n",
    "\n",
    "    def __init__(self, color):\n",
    "        \"\"\"\n",
    "        玩家初始化\n",
    "        :param color: 下棋方，'X' - 黑棋，'O' - 白棋\n",
    "        \"\"\"\n",
    "        self.color = color\n",
    "    \n",
    "\n",
    "    def get_move(self, board):\n",
    "        \"\"\"\n",
    "        根据当前棋盘输入人类合法落子位置\n",
    "        :param board: 棋盘\n",
    "        :return: 人类下棋落子位置\n",
    "        \"\"\"\n",
    "        # 如果 self.color 是黑棋 \"X\",则 player 是 \"黑棋\"，否则是 \"白棋\"\n",
    "        if self.color == \"X\":\n",
    "            player = \"黑棋\"\n",
    "        else:\n",
    "            player = \"白棋\"\n",
    "\n",
    "        # 人类玩家输入落子位置，如果输入 'Q', 则返回 'Q'并结束比赛。\n",
    "        # 如果人类玩家输入棋盘位置，e.g. 'A1'，\n",
    "        # 首先判断输入是否正确，然后再判断是否符合黑白棋规则的落子位置\n",
    "        while True:\n",
    "            action = input(\n",
    "                    \"请'{}-{}'方输入一个合法的坐标(e.g. 'D3'，若不想进行，请务必输入'Q'结束游戏。): \".format(player,\n",
    "                                                                                 self.color))\n",
    "\n",
    "            # 如果人类玩家输入 Q 则表示想结束比赛\n",
    "            if action == \"Q\" or action == 'q':\n",
    "                return \"Q\"\n",
    "            else:\n",
    "                row, col = action[1].upper(), action[0].upper()\n",
    "\n",
    "                # 检查人类输入是否正确\n",
    "                if row in '12345678' and col in 'ABCDEFGH':\n",
    "                    # 检查人类输入是否为符合规则的可落子位置\n",
    "                    if action in board.get_legal_actions(self.color):\n",
    "                        return action\n",
    "                else:\n",
    "                    print(\"你的输入不合法，请重新输入!\")\n"
   ]
  },
  {
   "cell_type": "markdown",
   "metadata": {},
   "source": [
    "# 2.4 测试"
   ]
  },
  {
   "cell_type": "code",
   "execution_count": null,
   "metadata": {},
   "outputs": [
    {
     "name": "stdout",
     "output_type": "stream",
     "text": [
      "\n",
      "=====开始游戏!=====\n",
      "\n",
      "  A B C D E F G H\n",
      "1 . . . . . . . .\n",
      "2 . . . . . . . .\n",
      "3 . . . . . . . .\n",
      "4 . . . O X . . .\n",
      "5 . . . X O . . .\n",
      "6 . . . . . . . .\n",
      "7 . . . . . . . .\n",
      "8 . . . . . . . .\n",
      "统计棋局: 棋子总数 / 每一步耗时 / 总时间 \n",
      "黑   棋: 2 / 0 / 0\n",
      "白   棋: 2 / 0 / 0\n",
      "\n",
      "请等一会，对方 黑棋-X 正在思考中...\n",
      "play out: 944\tplay out time: 0.03s\tpolicy time: 0.03s\ttotal time: 33s 169ms                                                       \r"
     ]
    }
   ],
   "source": [
    "# 导入黑白棋文件\n",
    "from game import Game  \n",
    "from alpha_one import *\n",
    "from mcts import MctsPlayer\n",
    "\n",
    "# 人类玩家黑棋初始化\n",
    "black_player =  MctsPlayer(\"X\")\n",
    "\n",
    "# AI 玩家 白棋初始化\n",
    "white_player = AlphaOne(\"O\")\n",
    "\n",
    "# 游戏初始化，第一个玩家是黑棋，第二个玩家是白棋\n",
    "game = Game(black_player, white_player)\n",
    "\n",
    "# 开始下棋\n",
    "game.run()"
   ]
  },
  {
   "cell_type": "code",
   "execution_count": null,
   "metadata": {},
   "outputs": [],
   "source": []
  }
 ],
 "metadata": {
  "kernelspec": {
   "display_name": "Python 3",
   "language": "python",
   "name": "python3"
  },
  "language_info": {
   "codemirror_mode": {
    "name": "ipython",
    "version": 3
   },
   "file_extension": ".py",
   "mimetype": "text/x-python",
   "name": "python",
   "nbconvert_exporter": "python",
   "pygments_lexer": "ipython3",
   "version": "3.6.9"
  }
 },
 "nbformat": 4,
 "nbformat_minor": 2
}
